{
 "cells": [
  {
   "cell_type": "code",
   "execution_count": 7,
   "metadata": {},
   "outputs": [
    {
     "name": "stdout",
     "output_type": "stream",
     "text": [
      "Загадай число от 1 до 1000...\n",
      "Загадал?\n",
      "Тогда поехали!\n",
      "\n",
      "Если я угадаю, напиши \"=\",\n",
      "        если твое число меньше, то введи \"<\",\n",
      "        а если больше, то \">\".\n",
      "        И нажми на Enter.\n",
      "\n",
      "Это 500? >\n",
      "Это 750? >\n",
      "Это 875? <\n",
      "Это 812? <\n",
      "Это 781? <\n",
      "Это 765? >\n",
      "Это 773? >\n",
      "Это 777? =\n",
      "Ура! Я отгадал!\n",
      "Потребовалось шагов: 8\n",
      "Спасибо.\n"
     ]
    }
   ],
   "source": [
    "# https://repl.it/@Levashov/GuessNumberGame\n",
    "\n",
    "# Настройки\n",
    "a = 1\n",
    "b = 1000\n",
    "print(f'Загадай число от {a} до {b}...')\n",
    "\n",
    "# Определим свою функцию, которая напечатает правила\n",
    "def print_rules():\n",
    "    rules = '''Если я угадаю, напиши \"=\",\n",
    "        если твое число меньше, то введи \"<\",\n",
    "        а если больше, то \">\".\n",
    "        И нажми на Enter.'''\n",
    "    print()  # Пустая строка\n",
    "    print(rules)\n",
    "    print()\n",
    "\n",
    "# Даем время на подумать\n",
    "import time\n",
    "time.sleep(1)\n",
    "print('Загадал?')\n",
    "time.sleep(1)\n",
    "print('Тогда поехали!')\n",
    "time.sleep(1)\n",
    "print_rules()\n",
    "time.sleep(1)\n",
    "\n",
    "# Отгадываем\n",
    "steps = 0\n",
    "\n",
    "while True:\n",
    "    if a > b:\n",
    "        print('Произошел конфуз...')\n",
    "        print('Попробуй заново')\n",
    "        break\n",
    "    if a == b:\n",
    "        print(f'Все понятно. Ответ - {a}')\n",
    "        print(f'Потребовалось шагов: {steps}')\n",
    "        break\n",
    "\n",
    "    steps += 1\n",
    "\n",
    "    number = (a + b) // 2\n",
    "    answer = input(f'Это {number}? ')\n",
    "\n",
    "    if answer == '=':\n",
    "        print('Ура! Я отгадал!')\n",
    "        print(f'Потребовалось шагов: {steps}')\n",
    "        break\n",
    "    elif answer == '<':\n",
    "        b = number - 1\n",
    "    elif answer == '>':\n",
    "        a = number + 1\n",
    "    else:\n",
    "        print('Не понял. На всякий случай напомню правила:')\n",
    "        print_rules()\n",
    "        steps -= 1\n",
    "\n",
    "print('Спасибо.')"
   ]
  },
  {
   "cell_type": "code",
   "execution_count": 14,
   "metadata": {},
   "outputs": [],
   "source": [
    "def roma_abc(a, b, c):\n",
    "    return (a + b) / c"
   ]
  },
  {
   "cell_type": "code",
   "execution_count": 15,
   "metadata": {},
   "outputs": [
    {
     "data": {
      "text/plain": [
       "12"
      ]
     },
     "execution_count": 15,
     "metadata": {},
     "output_type": "execute_result"
    }
   ],
   "source": [
    "roma_abc(2, 3, 7)"
   ]
  },
  {
   "cell_type": "code",
   "execution_count": 17,
   "metadata": {},
   "outputs": [
    {
     "ename": "TypeError",
     "evalue": "unsupported operand type(s) for +: 'int' and 'str'",
     "output_type": "error",
     "traceback": [
      "\u001b[0;31m---------------------------------------------------------------------------\u001b[0m",
      "\u001b[0;31mTypeError\u001b[0m                                 Traceback (most recent call last)",
      "\u001b[0;32m<ipython-input-17-57ab4be477bc>\u001b[0m in \u001b[0;36m<module>\u001b[0;34m\u001b[0m\n\u001b[0;32m----> 1\u001b[0;31m \u001b[0mroma_abc\u001b[0m\u001b[0;34m(\u001b[0m\u001b[0;36m5\u001b[0m\u001b[0;34m,\u001b[0m \u001b[0;34m'aa'\u001b[0m\u001b[0;34m,\u001b[0m \u001b[0;34m'gg'\u001b[0m\u001b[0;34m)\u001b[0m\u001b[0;34m\u001b[0m\u001b[0;34m\u001b[0m\u001b[0m\n\u001b[0m",
      "\u001b[0;32m<ipython-input-14-eb6d5e97a039>\u001b[0m in \u001b[0;36mroma_abc\u001b[0;34m(a, b, c)\u001b[0m\n\u001b[1;32m      1\u001b[0m \u001b[0;32mdef\u001b[0m \u001b[0mroma_abc\u001b[0m\u001b[0;34m(\u001b[0m\u001b[0ma\u001b[0m\u001b[0;34m,\u001b[0m \u001b[0mb\u001b[0m\u001b[0;34m,\u001b[0m \u001b[0mc\u001b[0m\u001b[0;34m)\u001b[0m\u001b[0;34m:\u001b[0m\u001b[0;34m\u001b[0m\u001b[0;34m\u001b[0m\u001b[0m\n\u001b[0;32m----> 2\u001b[0;31m     \u001b[0;32mreturn\u001b[0m \u001b[0;34m(\u001b[0m\u001b[0ma\u001b[0m \u001b[0;34m+\u001b[0m \u001b[0mb\u001b[0m\u001b[0;34m)\u001b[0m \u001b[0;34m+\u001b[0m \u001b[0mc\u001b[0m\u001b[0;34m\u001b[0m\u001b[0;34m\u001b[0m\u001b[0m\n\u001b[0m",
      "\u001b[0;31mTypeError\u001b[0m: unsupported operand type(s) for +: 'int' and 'str'"
     ]
    }
   ],
   "source": [
    "roma_abc(5, 'aa', 'gg')"
   ]
  },
  {
   "cell_type": "code",
   "execution_count": null,
   "metadata": {},
   "outputs": [],
   "source": []
  }
 ],
 "metadata": {
  "kernelspec": {
   "display_name": "Python 3",
   "language": "python",
   "name": "python3"
  },
  "language_info": {
   "codemirror_mode": {
    "name": "ipython",
    "version": 3
   },
   "file_extension": ".py",
   "mimetype": "text/x-python",
   "name": "python",
   "nbconvert_exporter": "python",
   "pygments_lexer": "ipython3",
   "version": "3.7.6"
  }
 },
 "nbformat": 4,
 "nbformat_minor": 4
}
